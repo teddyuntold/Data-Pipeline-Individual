{
 "cells": [
  {
   "cell_type": "code",
   "execution_count": 1,
   "metadata": {},
   "outputs": [],
   "source": [
    "import pandas as pd"
   ]
  },
  {
   "cell_type": "markdown",
   "metadata": {},
   "source": [
    "### Saving Each File As A DataFrame"
   ]
  },
  {
   "cell_type": "code",
   "execution_count": 2,
   "metadata": {},
   "outputs": [
    {
     "name": "stderr",
     "output_type": "stream",
     "text": [
      "C:\\Users\\AnnanFreddy Otu-Afro\\AppData\\Local\\Temp\\ipykernel_5592\\1853916272.py:3: DtypeWarning: Columns (12,14,16,19,30,31) have mixed types. Specify dtype option on import or set low_memory=False.\n",
      "  df_m1d = pd.read_csv(\"Market 1 Deliveries.csv\")\n"
     ]
    }
   ],
   "source": [
    "df_m1c = pd.read_json(\"Market 1 Customers.json\")\n",
    "\n",
    "df_m1d = pd.read_csv(\"Market 1 Deliveries.csv\")\n",
    "\n",
    "df_m1o = pd.read_csv(\"Market 1 Orders.csv\")\n",
    "\n",
    "df_m2c = pd.read_json(\"Market 2 Customers.json\")\n",
    "\n",
    "df_m2d = pd.read_csv(\"Market 2 Deliveries.csv\")\n",
    "\n",
    "df_m2o = pd.read_csv(\"Market 2 Orders.csv\")"
   ]
  },
  {
   "cell_type": "markdown",
   "metadata": {},
   "source": [
    "# Merging Like Files"
   ]
  },
  {
   "cell_type": "markdown",
   "metadata": {},
   "source": [
    "#### Merging Market 1 & 2 Orders"
   ]
  },
  {
   "cell_type": "code",
   "execution_count": 15,
   "metadata": {},
   "outputs": [],
   "source": [
    "df_orders = pd.merge(df_m1o, df_m2o, on='Customer ID', how='outer')"
   ]
  },
  {
   "cell_type": "markdown",
   "metadata": {},
   "source": [
    "#### Merging Markets 1 & 2 Customers"
   ]
  },
  {
   "cell_type": "code",
   "execution_count": 16,
   "metadata": {},
   "outputs": [],
   "source": [
    "df_customers = pd.merge(df_m1c,df_m2c,on='Customer ID', how='outer')"
   ]
  },
  {
   "cell_type": "markdown",
   "metadata": {},
   "source": [
    "#### Merging Market 1 & 2 Deliveries"
   ]
  },
  {
   "cell_type": "code",
   "execution_count": 20,
   "metadata": {},
   "outputs": [],
   "source": [
    "df_deliveries = pd.merge(df_m1d, df_m2d, on='Task_ID', how='outer')"
   ]
  },
  {
   "cell_type": "markdown",
   "metadata": {},
   "source": [
    "#### Columns In Orders Table With Missing Data"
   ]
  },
  {
   "cell_type": "code",
   "execution_count": 32,
   "metadata": {},
   "outputs": [],
   "source": [
    "columns_with_missing_values = df_orders.columns[df_orders.isna().sum() == 13671]"
   ]
  },
  {
   "cell_type": "code",
   "execution_count": 34,
   "metadata": {},
   "outputs": [],
   "source": [
    "for i in columns_with_missing_values:\n",
    "    df_orders.drop(f'{i}', axis=1, inplace=True)"
   ]
  },
  {
   "cell_type": "markdown",
   "metadata": {},
   "source": [
    "#### Columns In Customers Table With Missing Data"
   ]
  },
  {
   "cell_type": "code",
   "execution_count": 52,
   "metadata": {},
   "outputs": [],
   "source": [
    "customer_columns_with_missing_values = df_orders.columns[df_orders.isna().sum() == 5272]\n",
    "\n",
    "for i in customer_columns_with_missing_values:\n",
    "    df_customers.drop(f'{i}', axis=1, inplace=True)"
   ]
  },
  {
   "cell_type": "markdown",
   "metadata": {},
   "source": [
    "#### Columns In Deliveries Table With Missing Data"
   ]
  },
  {
   "cell_type": "code",
   "execution_count": 54,
   "metadata": {},
   "outputs": [],
   "source": [
    "deliveries_columns_with_missing_values = df_orders.columns[df_orders.isna().sum() == 53002]\n",
    "\n",
    "for i in deliveries_columns_with_missing_values:\n",
    "    df_deliveries.drop(f'{i}', axis=1, inplace=True)"
   ]
  }
 ],
 "metadata": {
  "kernelspec": {
   "display_name": "Python 3",
   "language": "python",
   "name": "python3"
  },
  "language_info": {
   "codemirror_mode": {
    "name": "ipython",
    "version": 3
   },
   "file_extension": ".py",
   "mimetype": "text/x-python",
   "name": "python",
   "nbconvert_exporter": "python",
   "pygments_lexer": "ipython3",
   "version": "3.11.4"
  }
 },
 "nbformat": 4,
 "nbformat_minor": 2
}
