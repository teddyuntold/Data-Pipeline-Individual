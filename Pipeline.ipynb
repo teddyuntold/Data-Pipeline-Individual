{
 "cells": [
  {
   "cell_type": "code",
   "execution_count": 26,
   "metadata": {},
   "outputs": [],
   "source": [
    "import pandas as pd"
   ]
  },
  {
   "cell_type": "markdown",
   "metadata": {},
   "source": [
    "### Saving Each File As A DataFrame"
   ]
  },
  {
   "cell_type": "code",
   "execution_count": 27,
   "metadata": {},
   "outputs": [
    {
     "name": "stderr",
     "output_type": "stream",
     "text": [
      "C:\\Users\\AnnanFreddy Otu-Afro\\AppData\\Local\\Temp\\ipykernel_13068\\479761149.py:3: DtypeWarning: Columns (12,14,16,19,30,31) have mixed types. Specify dtype option on import or set low_memory=False.\n",
      "  df_m1d = pd.read_csv(\"Data/Market 1 Deliveries.csv\")\n"
     ]
    }
   ],
   "source": [
    "df_m1c = pd.read_json(\"Data/Market 1 Customers.json\")\n",
    "\n",
    "df_m1d = pd.read_csv(\"Data/Market 1 Deliveries.csv\")\n",
    "\n",
    "df_m1o = pd.read_csv(\"Data/Market 1 Orders.csv\")\n",
    "\n",
    "df_m2c = pd.read_json(\"Data/Market 2 Customers.json\")\n",
    "\n",
    "df_m2d = pd.read_csv(\"Data/Market 2 Deliveries.csv\")\n",
    "\n",
    "df_m2o = pd.read_csv(\"Data/Market 2 Orders.csv\")"
   ]
  },
  {
   "cell_type": "markdown",
   "metadata": {},
   "source": [
    "# Merging Like Files"
   ]
  },
  {
   "cell_type": "markdown",
   "metadata": {},
   "source": [
    "#### Merging Market 1 & 2 Orders"
   ]
  },
  {
   "cell_type": "code",
   "execution_count": 28,
   "metadata": {},
   "outputs": [],
   "source": [
    "df_orders = pd.merge(df_m1o, df_m2o, on='Customer ID', how='outer')"
   ]
  },
  {
   "cell_type": "markdown",
   "metadata": {},
   "source": [
    "#### Merging Markets 1 & 2 Customers"
   ]
  },
  {
   "cell_type": "code",
   "execution_count": 29,
   "metadata": {},
   "outputs": [],
   "source": [
    "df_customers = pd.merge(df_m1c,df_m2c,on='Customer ID', how='outer')"
   ]
  },
  {
   "cell_type": "markdown",
   "metadata": {},
   "source": [
    "#### Merging Market 1 & 2 Deliveries"
   ]
  },
  {
   "cell_type": "code",
   "execution_count": 30,
   "metadata": {},
   "outputs": [],
   "source": [
    "df_deliveries = pd.merge(df_m1d, df_m2d, on='Task_ID', how='outer')"
   ]
  },
  {
   "cell_type": "markdown",
   "metadata": {},
   "source": [
    "#### Columns In Orders Table With Missing Data"
   ]
  },
  {
   "cell_type": "code",
   "execution_count": 31,
   "metadata": {},
   "outputs": [],
   "source": [
    "columns_with_missing_values = df_orders.columns[df_orders.isna().sum() == 13671]"
   ]
  },
  {
   "cell_type": "code",
   "execution_count": 32,
   "metadata": {},
   "outputs": [],
   "source": [
    "for i in columns_with_missing_values:\n",
    "    df_orders.drop(f'{i}', axis=1, inplace=True)"
   ]
  },
  {
   "cell_type": "markdown",
   "metadata": {},
   "source": [
    "#### Columns In Customers Table With Missing Data"
   ]
  },
  {
   "cell_type": "code",
   "execution_count": 33,
   "metadata": {},
   "outputs": [],
   "source": [
    "customer_columns_with_missing_values = df_orders.columns[df_orders.isna().sum() == 5272]\n",
    "\n",
    "for i in customer_columns_with_missing_values:\n",
    "    df_customers.drop(f'{i}', axis=1, inplace=True)"
   ]
  },
  {
   "cell_type": "markdown",
   "metadata": {},
   "source": [
    "#### Columns In Deliveries Table With Missing Data"
   ]
  },
  {
   "cell_type": "code",
   "execution_count": 34,
   "metadata": {},
   "outputs": [],
   "source": [
    "deliveries_columns_with_missing_values = df_orders.columns[df_orders.isna().sum() == 53002]\n",
    "\n",
    "for i in deliveries_columns_with_missing_values:\n",
    "    df_deliveries.drop(f'{i}', axis=1, inplace=True)"
   ]
  },
  {
   "cell_type": "markdown",
   "metadata": {},
   "source": [
    "#### Merge All Data Into One CSV"
   ]
  },
  {
   "cell_type": "code",
   "execution_count": 35,
   "metadata": {},
   "outputs": [
    {
     "data": {
      "text/plain": [
       "Index(['Customer ID', 'Last Used Platform_x', 'Is Blocked_x', 'Created At_x',\n",
       "       'Language_x', 'Outstanding Amount_x', 'Loyalty Points_x',\n",
       "       'Number of employees', 'Last Used Platform_y', 'Is Blocked_y',\n",
       "       'Created At_y', 'Language_y', 'Outstanding Amount_y',\n",
       "       'Loyalty Points_y', 'Number of Employees'],\n",
       "      dtype='object')"
      ]
     },
     "execution_count": 35,
     "metadata": {},
     "output_type": "execute_result"
    }
   ],
   "source": [
    "df_customers.columns"
   ]
  },
  {
   "cell_type": "code",
   "execution_count": 36,
   "metadata": {},
   "outputs": [
    {
     "data": {
      "text/plain": [
       "Index(['Task_ID', 'Order_ID_x', 'Relationship_x', 'Team_Name_x', 'Task_Type_x',\n",
       "       'Notes_x', 'Agent_ID_x', 'Agent_Name', 'Distance(m)_x',\n",
       "       'Total_Time_Taken(min)_x', 'Task_Status_x', 'Ref_Images_x', 'Rating_x',\n",
       "       'Review_x', 'Latitude_x', 'Longitude_x', 'Tags_x', 'Promo_Applied_x',\n",
       "       'Custom_Template_ID_x', 'Task_Details_QTY_x', 'Task_Details_AMOUNT_x',\n",
       "       'Special_Instructions_x', 'Tip_x', 'Delivery_Charges_x', 'Discount_x',\n",
       "       'Subtotal_x', 'Payment_Type_x', 'Task_Category_x', 'Earning_x',\n",
       "       'Pricing_x', 'Unnamed: 30', 'Unnamed: 31', 'Order_ID_y',\n",
       "       'Relationship_y', 'Team_Name_y', 'Task_Type_y', 'Notes_y', 'Agent_ID_y',\n",
       "       'Distance(m)_y', 'Total_Time_Taken(min)_y', 'Task_Status_y',\n",
       "       'Ref_Images_y', 'Rating_y', 'Review_y', 'Latitude_y', 'Longitude_y',\n",
       "       'Tags_y', 'Promo_Applied_y', 'Custom_Template_ID_y',\n",
       "       'Task_Details_QTY_y', 'Task_Details_AMOUNT_y', 'Special_Instructions_y',\n",
       "       'Tip_y', 'Delivery_Charges_y', 'Discount_y', 'Subtotal_y',\n",
       "       'Payment_Type_y', 'Task_Category_y', 'Earning_y', 'Pricing_y'],\n",
       "      dtype='object')"
      ]
     },
     "execution_count": 36,
     "metadata": {},
     "output_type": "execute_result"
    }
   ],
   "source": [
    "df_deliveries.columns\n"
   ]
  },
  {
   "cell_type": "code",
   "execution_count": 37,
   "metadata": {},
   "outputs": [
    {
     "data": {
      "text/plain": [
       "Index(['Order ID_x', 'Order Status_x', 'Category Name_x', 'SKU_x',\n",
       "       'Quantity_x', 'Unit Price_x', 'Cost Price_x', 'Total Cost Price_x',\n",
       "       'Total Price_x', 'Order Total_x', 'Sub Total_x', 'Tax_x',\n",
       "       'Delivery Charge_x', 'Tip_x', 'Discount_x', 'Remaining Balance_x',\n",
       "       'Payment Method_x', 'Additional Charge_x', 'Taxable Amount_x',\n",
       "       'Transaction ID_x', 'Currency Symbol_x', 'Customer ID', 'Merchant ID_x',\n",
       "       'Description_x', 'Distance (in km)_x', 'Order Time_x', 'Pickup Time_x',\n",
       "       'Delivery Time_x', 'Ratings_x', 'Reviews_x', 'Order Preparation Time_x',\n",
       "       'Debt Amount', 'Redeemed Loyalty Points_x', 'Consumed Loyalty Points_x',\n",
       "       'Flat Discount_x', 'Checkout Template Name_x',\n",
       "       'Checkout Template Value_x', 'Order ID_y', 'Order Status_y',\n",
       "       'Category Name_y', 'SKU_y', 'Quantity_y', 'Unit Price_y',\n",
       "       'Cost Price_y', 'Total Cost Price_y', 'Total Price_y', 'Order Total_y',\n",
       "       'Sub Total_y', 'Tax_y', 'Delivery Charge_y', 'Tip_y', 'Discount_y',\n",
       "       'Remaining Balance_y', 'Payment Method_y', 'Additional Charge_y',\n",
       "       'Taxable Amount_y', 'Transaction ID_y', 'Currency Symbol_y',\n",
       "       'Merchant ID_y', 'Distance (in km)_y', 'Order Time_y', 'Pickup Time_y',\n",
       "       'Delivery Time_y', 'Order Preparation Time_y',\n",
       "       'Redeemed Loyalty Points_y', 'Consumed Loyalty Points_y',\n",
       "       'Flat Discount_y', 'Checkout Template Name_y',\n",
       "       'Checkout Template Value_y'],\n",
       "      dtype='object')"
      ]
     },
     "execution_count": 37,
     "metadata": {},
     "output_type": "execute_result"
    }
   ],
   "source": [
    "df_orders.columns"
   ]
  },
  {
   "cell_type": "code",
   "execution_count": 41,
   "metadata": {},
   "outputs": [],
   "source": [
    "dtframes = [df_deliveries, df_customers, df_orders]"
   ]
  },
  {
   "cell_type": "code",
   "execution_count": 42,
   "metadata": {},
   "outputs": [],
   "source": [
    "# Drop columns with empty/null rows or containing only \"-\" values\n",
    "def drop_empty_or_dash_columns(df):\n",
    "    return df.dropna(axis=1, how='all') \\\n",
    "        .loc[:, (df != '-').any()]  # Select columns where any value is not '-'"
   ]
  },
  {
   "cell_type": "code",
   "execution_count": 44,
   "metadata": {},
   "outputs": [],
   "source": [
    "for df in dtframes:\n",
    "    df = drop_empty_or_dash_columns(df)"
   ]
  },
  {
   "cell_type": "code",
   "execution_count": 46,
   "metadata": {},
   "outputs": [],
   "source": [
    "df_deliveries.to_csv('Data/deliveries.csv',index=False)"
   ]
  },
  {
   "cell_type": "code",
   "execution_count": 47,
   "metadata": {},
   "outputs": [],
   "source": [
    "df_orders.to_csv('Data/orders.csv',index=False)"
   ]
  },
  {
   "cell_type": "code",
   "execution_count": 48,
   "metadata": {},
   "outputs": [],
   "source": [
    "df_customers.to_csv('Data/customers.csv',index=False)"
   ]
  },
  {
   "cell_type": "code",
   "execution_count": 51,
   "metadata": {},
   "outputs": [],
   "source": [
    "# List of files to read and consolidate\n",
    "files_to_read = [\"Data/deliveries.csv\", \"Data/customer_data.csv\", \"Data/orders.csv\"]"
   ]
  },
  {
   "cell_type": "code",
   "execution_count": 52,
   "metadata": {},
   "outputs": [
    {
     "name": "stderr",
     "output_type": "stream",
     "text": [
      "C:\\Users\\AnnanFreddy Otu-Afro\\AppData\\Local\\Temp\\ipykernel_13068\\2707547090.py:7: DtypeWarning: Columns (1,3,4,5,6,7,8,9,10,11,12,13,14,16,17,18,19,20,21,22,23,24,25,26,27,28,29,30,31,32,34,35,36,37,38,39,40,41,43,47,48,49,50,51,52,53,54,55,56,57,58,59) have mixed types. Specify dtype option on import or set low_memory=False.\n",
      "  df = pd.read_csv(file_name)\n"
     ]
    },
    {
     "name": "stdout",
     "output_type": "stream",
     "text": [
      "File 'Data/customer_data.csv' not found.\n"
     ]
    },
    {
     "name": "stderr",
     "output_type": "stream",
     "text": [
      "C:\\Users\\AnnanFreddy Otu-Afro\\AppData\\Local\\Temp\\ipykernel_13068\\2707547090.py:7: DtypeWarning: Columns (6,7,38,39,40,48,49,50,51,53,54,55,57,60,61,62,64,65,67,68) have mixed types. Specify dtype option on import or set low_memory=False.\n",
      "  df = pd.read_csv(file_name)\n"
     ]
    }
   ],
   "source": [
    "# Dictionary to store DataFrames\n",
    "dataframes = {}\n",
    "\n",
    "# Read and store DataFrames from each file\n",
    "for file_name in files_to_read:\n",
    "    try:\n",
    "        df = pd.read_csv(file_name)\n",
    "        dataframes[file_name.split('.')[0]] = df\n",
    "    except FileNotFoundError:\n",
    "        print(f\"File '{file_name}' not found.\")\n"
   ]
  },
  {
   "cell_type": "code",
   "execution_count": 53,
   "metadata": {},
   "outputs": [],
   "source": [
    "# Join DataFrames together\n",
    "all_markets_data = pd.concat(dataframes.values(), axis=1)"
   ]
  },
  {
   "cell_type": "code",
   "execution_count": 54,
   "metadata": {},
   "outputs": [
    {
     "data": {
      "text/html": [
       "<div>\n",
       "<style scoped>\n",
       "    .dataframe tbody tr th:only-of-type {\n",
       "        vertical-align: middle;\n",
       "    }\n",
       "\n",
       "    .dataframe tbody tr th {\n",
       "        vertical-align: top;\n",
       "    }\n",
       "\n",
       "    .dataframe thead th {\n",
       "        text-align: right;\n",
       "    }\n",
       "</style>\n",
       "<table border=\"1\" class=\"dataframe\">\n",
       "  <thead>\n",
       "    <tr style=\"text-align: right;\">\n",
       "      <th></th>\n",
       "      <th>Task_ID</th>\n",
       "      <th>Order_ID_x</th>\n",
       "      <th>Relationship_x</th>\n",
       "      <th>Team_Name_x</th>\n",
       "      <th>Task_Type_x</th>\n",
       "      <th>Notes_x</th>\n",
       "      <th>Agent_ID_x</th>\n",
       "      <th>Agent_Name</th>\n",
       "      <th>Distance(m)_x</th>\n",
       "      <th>Total_Time_Taken(min)_x</th>\n",
       "      <th>...</th>\n",
       "      <th>Distance (in km)_y</th>\n",
       "      <th>Order Time_y</th>\n",
       "      <th>Pickup Time_y</th>\n",
       "      <th>Delivery Time_y</th>\n",
       "      <th>Order Preparation Time_y</th>\n",
       "      <th>Redeemed Loyalty Points_y</th>\n",
       "      <th>Consumed Loyalty Points_y</th>\n",
       "      <th>Flat Discount_y</th>\n",
       "      <th>Checkout Template Name_y</th>\n",
       "      <th>Checkout Template Value_y</th>\n",
       "    </tr>\n",
       "  </thead>\n",
       "  <tbody>\n",
       "    <tr>\n",
       "      <th>0</th>\n",
       "      <td>357410575</td>\n",
       "      <td>YR-10691280,0</td>\n",
       "      <td>3.570000e+29</td>\n",
       "      <td>Default Team</td>\n",
       "      <td>Delivery</td>\n",
       "      <td>Deliver tomorrow morning by 8.00a.m note</td>\n",
       "      <td>potatoes should be Medium large enough for Mak...</td>\n",
       "      <td>1280904</td>\n",
       "      <td>Malombe Kimathi</td>\n",
       "      <td>-</td>\n",
       "      <td>...</td>\n",
       "      <td>NaN</td>\n",
       "      <td>NaN</td>\n",
       "      <td>NaN</td>\n",
       "      <td>NaN</td>\n",
       "      <td>NaN</td>\n",
       "      <td>NaN</td>\n",
       "      <td>NaN</td>\n",
       "      <td>NaN</td>\n",
       "      <td>NaN</td>\n",
       "      <td>NaN</td>\n",
       "    </tr>\n",
       "    <tr>\n",
       "      <th>1</th>\n",
       "      <td>357410575</td>\n",
       "      <td>YR-10691280,0</td>\n",
       "      <td>3.570000e+29</td>\n",
       "      <td>Default Team</td>\n",
       "      <td>Delivery</td>\n",
       "      <td>Deliver tomorrow morning by 8.00a.m note</td>\n",
       "      <td>potatoes should be Medium large enough for Mak...</td>\n",
       "      <td>1280904</td>\n",
       "      <td>Malombe Kimathi</td>\n",
       "      <td>-</td>\n",
       "      <td>...</td>\n",
       "      <td>NaN</td>\n",
       "      <td>NaN</td>\n",
       "      <td>NaN</td>\n",
       "      <td>NaN</td>\n",
       "      <td>NaN</td>\n",
       "      <td>NaN</td>\n",
       "      <td>NaN</td>\n",
       "      <td>NaN</td>\n",
       "      <td>NaN</td>\n",
       "      <td>NaN</td>\n",
       "    </tr>\n",
       "    <tr>\n",
       "      <th>2</th>\n",
       "      <td>303698961</td>\n",
       "      <td>YR-8221753,0</td>\n",
       "      <td>3.040000e+29</td>\n",
       "      <td>Default Team</td>\n",
       "      <td>Delivery</td>\n",
       "      <td>To be delivered today by 12</td>\n",
       "      <td>30pm</td>\n",
       "      <td>1115711</td>\n",
       "      <td>Kennedy Chege</td>\n",
       "      <td>-</td>\n",
       "      <td>...</td>\n",
       "      <td>NaN</td>\n",
       "      <td>NaN</td>\n",
       "      <td>NaN</td>\n",
       "      <td>NaN</td>\n",
       "      <td>NaN</td>\n",
       "      <td>NaN</td>\n",
       "      <td>NaN</td>\n",
       "      <td>NaN</td>\n",
       "      <td>NaN</td>\n",
       "      <td>NaN</td>\n",
       "    </tr>\n",
       "    <tr>\n",
       "      <th>3</th>\n",
       "      <td>302906575</td>\n",
       "      <td>YR-8133470,0</td>\n",
       "      <td>3.030000e+29</td>\n",
       "      <td>Default Team</td>\n",
       "      <td>Delivery</td>\n",
       "      <td>DELIVER BY 6</td>\n",
       "      <td>30 PLEASE</td>\n",
       "      <td>-</td>\n",
       "      <td>-</td>\n",
       "      <td>-</td>\n",
       "      <td>...</td>\n",
       "      <td>NaN</td>\n",
       "      <td>NaN</td>\n",
       "      <td>NaN</td>\n",
       "      <td>NaN</td>\n",
       "      <td>NaN</td>\n",
       "      <td>NaN</td>\n",
       "      <td>NaN</td>\n",
       "      <td>NaN</td>\n",
       "      <td>NaN</td>\n",
       "      <td>NaN</td>\n",
       "    </tr>\n",
       "    <tr>\n",
       "      <th>4</th>\n",
       "      <td>302906575</td>\n",
       "      <td>YR-8133470,0</td>\n",
       "      <td>3.030000e+29</td>\n",
       "      <td>Default Team</td>\n",
       "      <td>Delivery</td>\n",
       "      <td>DELIVER BY 6</td>\n",
       "      <td>30 PLEASE</td>\n",
       "      <td>-</td>\n",
       "      <td>-</td>\n",
       "      <td>-</td>\n",
       "      <td>...</td>\n",
       "      <td>NaN</td>\n",
       "      <td>NaN</td>\n",
       "      <td>NaN</td>\n",
       "      <td>NaN</td>\n",
       "      <td>NaN</td>\n",
       "      <td>NaN</td>\n",
       "      <td>NaN</td>\n",
       "      <td>NaN</td>\n",
       "      <td>NaN</td>\n",
       "      <td>NaN</td>\n",
       "    </tr>\n",
       "    <tr>\n",
       "      <th>...</th>\n",
       "      <td>...</td>\n",
       "      <td>...</td>\n",
       "      <td>...</td>\n",
       "      <td>...</td>\n",
       "      <td>...</td>\n",
       "      <td>...</td>\n",
       "      <td>...</td>\n",
       "      <td>...</td>\n",
       "      <td>...</td>\n",
       "      <td>...</td>\n",
       "      <td>...</td>\n",
       "      <td>...</td>\n",
       "      <td>...</td>\n",
       "      <td>...</td>\n",
       "      <td>...</td>\n",
       "      <td>...</td>\n",
       "      <td>...</td>\n",
       "      <td>...</td>\n",
       "      <td>...</td>\n",
       "      <td>...</td>\n",
       "      <td>...</td>\n",
       "    </tr>\n",
       "    <tr>\n",
       "      <th>52997</th>\n",
       "      <td>299262559</td>\n",
       "      <td>NaN</td>\n",
       "      <td>NaN</td>\n",
       "      <td>NaN</td>\n",
       "      <td>NaN</td>\n",
       "      <td>NaN</td>\n",
       "      <td>NaN</td>\n",
       "      <td>NaN</td>\n",
       "      <td>NaN</td>\n",
       "      <td>NaN</td>\n",
       "      <td>...</td>\n",
       "      <td>NaN</td>\n",
       "      <td>NaN</td>\n",
       "      <td>NaN</td>\n",
       "      <td>NaN</td>\n",
       "      <td>NaN</td>\n",
       "      <td>NaN</td>\n",
       "      <td>NaN</td>\n",
       "      <td>NaN</td>\n",
       "      <td>NaN</td>\n",
       "      <td>NaN</td>\n",
       "    </tr>\n",
       "    <tr>\n",
       "      <th>52998</th>\n",
       "      <td>299259587</td>\n",
       "      <td>NaN</td>\n",
       "      <td>NaN</td>\n",
       "      <td>NaN</td>\n",
       "      <td>NaN</td>\n",
       "      <td>NaN</td>\n",
       "      <td>NaN</td>\n",
       "      <td>NaN</td>\n",
       "      <td>NaN</td>\n",
       "      <td>NaN</td>\n",
       "      <td>...</td>\n",
       "      <td>NaN</td>\n",
       "      <td>NaN</td>\n",
       "      <td>NaN</td>\n",
       "      <td>NaN</td>\n",
       "      <td>NaN</td>\n",
       "      <td>NaN</td>\n",
       "      <td>NaN</td>\n",
       "      <td>NaN</td>\n",
       "      <td>NaN</td>\n",
       "      <td>NaN</td>\n",
       "    </tr>\n",
       "    <tr>\n",
       "      <th>52999</th>\n",
       "      <td>299259586</td>\n",
       "      <td>NaN</td>\n",
       "      <td>NaN</td>\n",
       "      <td>NaN</td>\n",
       "      <td>NaN</td>\n",
       "      <td>NaN</td>\n",
       "      <td>NaN</td>\n",
       "      <td>NaN</td>\n",
       "      <td>NaN</td>\n",
       "      <td>NaN</td>\n",
       "      <td>...</td>\n",
       "      <td>NaN</td>\n",
       "      <td>NaN</td>\n",
       "      <td>NaN</td>\n",
       "      <td>NaN</td>\n",
       "      <td>NaN</td>\n",
       "      <td>NaN</td>\n",
       "      <td>NaN</td>\n",
       "      <td>NaN</td>\n",
       "      <td>NaN</td>\n",
       "      <td>NaN</td>\n",
       "    </tr>\n",
       "    <tr>\n",
       "      <th>53000</th>\n",
       "      <td>299251273</td>\n",
       "      <td>NaN</td>\n",
       "      <td>NaN</td>\n",
       "      <td>NaN</td>\n",
       "      <td>NaN</td>\n",
       "      <td>NaN</td>\n",
       "      <td>NaN</td>\n",
       "      <td>NaN</td>\n",
       "      <td>NaN</td>\n",
       "      <td>NaN</td>\n",
       "      <td>...</td>\n",
       "      <td>NaN</td>\n",
       "      <td>NaN</td>\n",
       "      <td>NaN</td>\n",
       "      <td>NaN</td>\n",
       "      <td>NaN</td>\n",
       "      <td>NaN</td>\n",
       "      <td>NaN</td>\n",
       "      <td>NaN</td>\n",
       "      <td>NaN</td>\n",
       "      <td>NaN</td>\n",
       "    </tr>\n",
       "    <tr>\n",
       "      <th>53001</th>\n",
       "      <td>299251272</td>\n",
       "      <td>NaN</td>\n",
       "      <td>NaN</td>\n",
       "      <td>NaN</td>\n",
       "      <td>NaN</td>\n",
       "      <td>NaN</td>\n",
       "      <td>NaN</td>\n",
       "      <td>NaN</td>\n",
       "      <td>NaN</td>\n",
       "      <td>NaN</td>\n",
       "      <td>...</td>\n",
       "      <td>NaN</td>\n",
       "      <td>NaN</td>\n",
       "      <td>NaN</td>\n",
       "      <td>NaN</td>\n",
       "      <td>NaN</td>\n",
       "      <td>NaN</td>\n",
       "      <td>NaN</td>\n",
       "      <td>NaN</td>\n",
       "      <td>NaN</td>\n",
       "      <td>NaN</td>\n",
       "    </tr>\n",
       "  </tbody>\n",
       "</table>\n",
       "<p>53002 rows × 129 columns</p>\n",
       "</div>"
      ],
      "text/plain": [
       "         Task_ID     Order_ID_x  Relationship_x   Team_Name_x Task_Type_x  \\\n",
       "0      357410575  YR-10691280,0    3.570000e+29  Default Team    Delivery   \n",
       "1      357410575  YR-10691280,0    3.570000e+29  Default Team    Delivery   \n",
       "2      303698961   YR-8221753,0    3.040000e+29  Default Team    Delivery   \n",
       "3      302906575   YR-8133470,0    3.030000e+29  Default Team    Delivery   \n",
       "4      302906575   YR-8133470,0    3.030000e+29  Default Team    Delivery   \n",
       "...          ...            ...             ...           ...         ...   \n",
       "52997  299262559            NaN             NaN           NaN         NaN   \n",
       "52998  299259587            NaN             NaN           NaN         NaN   \n",
       "52999  299259586            NaN             NaN           NaN         NaN   \n",
       "53000  299251273            NaN             NaN           NaN         NaN   \n",
       "53001  299251272            NaN             NaN           NaN         NaN   \n",
       "\n",
       "                                        Notes_x  \\\n",
       "0      Deliver tomorrow morning by 8.00a.m note   \n",
       "1      Deliver tomorrow morning by 8.00a.m note   \n",
       "2                   To be delivered today by 12   \n",
       "3                                  DELIVER BY 6   \n",
       "4                                  DELIVER BY 6   \n",
       "...                                         ...   \n",
       "52997                                       NaN   \n",
       "52998                                       NaN   \n",
       "52999                                       NaN   \n",
       "53000                                       NaN   \n",
       "53001                                       NaN   \n",
       "\n",
       "                                              Agent_ID_x Agent_Name  \\\n",
       "0      potatoes should be Medium large enough for Mak...    1280904   \n",
       "1      potatoes should be Medium large enough for Mak...    1280904   \n",
       "2                                                   30pm    1115711   \n",
       "3                                              30 PLEASE          -   \n",
       "4                                              30 PLEASE          -   \n",
       "...                                                  ...        ...   \n",
       "52997                                                NaN        NaN   \n",
       "52998                                                NaN        NaN   \n",
       "52999                                                NaN        NaN   \n",
       "53000                                                NaN        NaN   \n",
       "53001                                                NaN        NaN   \n",
       "\n",
       "         Distance(m)_x Total_Time_Taken(min)_x  ... Distance (in km)_y  \\\n",
       "0      Malombe Kimathi                       -  ...                NaN   \n",
       "1      Malombe Kimathi                       -  ...                NaN   \n",
       "2        Kennedy Chege                       -  ...                NaN   \n",
       "3                    -                       -  ...                NaN   \n",
       "4                    -                       -  ...                NaN   \n",
       "...                ...                     ...  ...                ...   \n",
       "52997              NaN                     NaN  ...                NaN   \n",
       "52998              NaN                     NaN  ...                NaN   \n",
       "52999              NaN                     NaN  ...                NaN   \n",
       "53000              NaN                     NaN  ...                NaN   \n",
       "53001              NaN                     NaN  ...                NaN   \n",
       "\n",
       "      Order Time_y Pickup Time_y Delivery Time_y Order Preparation Time_y  \\\n",
       "0              NaN           NaN             NaN                      NaN   \n",
       "1              NaN           NaN             NaN                      NaN   \n",
       "2              NaN           NaN             NaN                      NaN   \n",
       "3              NaN           NaN             NaN                      NaN   \n",
       "4              NaN           NaN             NaN                      NaN   \n",
       "...            ...           ...             ...                      ...   \n",
       "52997          NaN           NaN             NaN                      NaN   \n",
       "52998          NaN           NaN             NaN                      NaN   \n",
       "52999          NaN           NaN             NaN                      NaN   \n",
       "53000          NaN           NaN             NaN                      NaN   \n",
       "53001          NaN           NaN             NaN                      NaN   \n",
       "\n",
       "       Redeemed Loyalty Points_y Consumed Loyalty Points_y Flat Discount_y  \\\n",
       "0                            NaN                       NaN             NaN   \n",
       "1                            NaN                       NaN             NaN   \n",
       "2                            NaN                       NaN             NaN   \n",
       "3                            NaN                       NaN             NaN   \n",
       "4                            NaN                       NaN             NaN   \n",
       "...                          ...                       ...             ...   \n",
       "52997                        NaN                       NaN             NaN   \n",
       "52998                        NaN                       NaN             NaN   \n",
       "52999                        NaN                       NaN             NaN   \n",
       "53000                        NaN                       NaN             NaN   \n",
       "53001                        NaN                       NaN             NaN   \n",
       "\n",
       "      Checkout Template Name_y Checkout Template Value_y  \n",
       "0                          NaN                       NaN  \n",
       "1                          NaN                       NaN  \n",
       "2                          NaN                       NaN  \n",
       "3                          NaN                       NaN  \n",
       "4                          NaN                       NaN  \n",
       "...                        ...                       ...  \n",
       "52997                      NaN                       NaN  \n",
       "52998                      NaN                       NaN  \n",
       "52999                      NaN                       NaN  \n",
       "53000                      NaN                       NaN  \n",
       "53001                      NaN                       NaN  \n",
       "\n",
       "[53002 rows x 129 columns]"
      ]
     },
     "execution_count": 54,
     "metadata": {},
     "output_type": "execute_result"
    }
   ],
   "source": [
    "all_markets_data"
   ]
  },
  {
   "cell_type": "code",
   "execution_count": 55,
   "metadata": {},
   "outputs": [
    {
     "data": {
      "text/plain": [
       "Index(['Task_ID', 'Order_ID_x', 'Relationship_x', 'Team_Name_x', 'Task_Type_x',\n",
       "       'Notes_x', 'Agent_ID_x', 'Agent_Name', 'Distance(m)_x',\n",
       "       'Total_Time_Taken(min)_x',\n",
       "       ...\n",
       "       'Distance (in km)_y', 'Order Time_y', 'Pickup Time_y',\n",
       "       'Delivery Time_y', 'Order Preparation Time_y',\n",
       "       'Redeemed Loyalty Points_y', 'Consumed Loyalty Points_y',\n",
       "       'Flat Discount_y', 'Checkout Template Name_y',\n",
       "       'Checkout Template Value_y'],\n",
       "      dtype='object', length=129)"
      ]
     },
     "execution_count": 55,
     "metadata": {},
     "output_type": "execute_result"
    }
   ],
   "source": [
    "all_markets_data.columns"
   ]
  },
  {
   "cell_type": "code",
   "execution_count": 56,
   "metadata": {},
   "outputs": [],
   "source": [
    "all_markets_data.to_csv('Data/Markets.csv', index=False)"
   ]
  },
  {
   "cell_type": "code",
   "execution_count": null,
   "metadata": {},
   "outputs": [],
   "source": []
  }
 ],
 "metadata": {
  "kernelspec": {
   "display_name": "Python 3",
   "language": "python",
   "name": "python3"
  },
  "language_info": {
   "codemirror_mode": {
    "name": "ipython",
    "version": 3
   },
   "file_extension": ".py",
   "mimetype": "text/x-python",
   "name": "python",
   "nbconvert_exporter": "python",
   "pygments_lexer": "ipython3",
   "version": "3.11.4"
  }
 },
 "nbformat": 4,
 "nbformat_minor": 2
}
