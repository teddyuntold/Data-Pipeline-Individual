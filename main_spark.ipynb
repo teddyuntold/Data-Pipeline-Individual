{
 "cells": [
  {
   "cell_type": "code",
   "execution_count": 50,
   "metadata": {},
   "outputs": [],
   "source": [
    "from pyspark.sql import SparkSession"
   ]
  },
  {
   "cell_type": "code",
   "execution_count": 51,
   "metadata": {},
   "outputs": [],
   "source": [
    "spark = SparkSession.builder.appName('Trestle_Assignment_5').getOrCreate()"
   ]
  },
  {
   "cell_type": "markdown",
   "metadata": {},
   "source": [
    "#### Etract Market 1 Data"
   ]
  },
  {
   "cell_type": "code",
   "execution_count": 52,
   "metadata": {},
   "outputs": [],
   "source": [
    "market_1_customers = spark.read.option('multiline','true').json(\"Market 1 Customers.json\")"
   ]
  },
  {
   "cell_type": "code",
   "execution_count": 53,
   "metadata": {},
   "outputs": [],
   "source": [
    "market_1_deliveries = spark.read.option('header','true').csv(\"Market 1 Deliveries.csv\", inferSchema=True)"
   ]
  },
  {
   "cell_type": "code",
   "execution_count": 54,
   "metadata": {},
   "outputs": [],
   "source": [
    "market_1_orders = spark.read.option('header','true').csv(\"Market 1 Orders.csv\", inferSchema=True)"
   ]
  },
  {
   "cell_type": "markdown",
   "metadata": {},
   "source": [
    "#### Extract Market 2 Data"
   ]
  },
  {
   "cell_type": "code",
   "execution_count": 55,
   "metadata": {},
   "outputs": [],
   "source": [
    "market_2_deliveries = spark.read.option('header','true').csv(\"Market 2 Deliveries.csv\", inferSchema=True)"
   ]
  },
  {
   "cell_type": "code",
   "execution_count": 56,
   "metadata": {},
   "outputs": [],
   "source": [
    "market_2_orders = spark.read.option('header','true').csv(\"Market 2 Orders.csv\", inferSchema=True)"
   ]
  },
  {
   "cell_type": "code",
   "execution_count": 57,
   "metadata": {},
   "outputs": [],
   "source": [
    "market_2_customers = spark.read.option('multiline','true').json(\"Market 2 Customers.json\")"
   ]
  },
  {
   "cell_type": "markdown",
   "metadata": {},
   "source": [
    "#### Merged Dataframes from Market 1 and Market 2"
   ]
  },
  {
   "cell_type": "code",
   "execution_count": 58,
   "metadata": {},
   "outputs": [],
   "source": [
    "customers = market_1_customers.join(market_2_customers, market_1_customers['Customer ID'] == market_2_customers['Customer ID'], how='outer')"
   ]
  },
  {
   "cell_type": "code",
   "execution_count": 59,
   "metadata": {},
   "outputs": [],
   "source": [
    "orders = market_1_orders.join(market_2_orders, market_1_orders['Order ID'] == market_2_orders['Order ID'], how='outer')"
   ]
  },
  {
   "cell_type": "code",
   "execution_count": 60,
   "metadata": {},
   "outputs": [],
   "source": [
    "deliveries = market_1_deliveries.join(market_2_deliveries, market_1_deliveries['Task_ID'] == market_2_deliveries['Task_ID'], how='outer')"
   ]
  },
  {
   "cell_type": "markdown",
   "metadata": {},
   "source": [
    "#### Display The Data"
   ]
  },
  {
   "cell_type": "code",
   "execution_count": 61,
   "metadata": {},
   "outputs": [
    {
     "name": "stdout",
     "output_type": "stream",
     "text": [
      "+--------------------+-----------+----------+--------+------------------+--------------+-------------------+------------------+----------+-----------+----------+--------+------------------+--------------+-------------------+------------------+\n",
      "|          Created At|Customer ID|Is Blocked|Language|Last Used Platform|Loyalty Points|Number of employees|Outstanding Amount|Created At|Customer ID|Is Blocked|Language|Last Used Platform|Loyalty Points|Number of Employees|Outstanding Amount|\n",
      "+--------------------+-----------+----------+--------+------------------+--------------+-------------------+------------------+----------+-----------+----------+--------+------------------+--------------+-------------------+------------------+\n",
      "|2021-03-15T17:13:...|    3144837|         0|      en|               WEB|             0|               NULL|                 0|      NULL|       NULL|      NULL|    NULL|              NULL|          NULL|               NULL|              NULL|\n",
      "|2021-03-20T14:15:...|    3174590|         0|      en|               WEB|             0|               NULL|                 0|      NULL|       NULL|      NULL|    NULL|              NULL|          NULL|               NULL|              NULL|\n",
      "|2021-03-21T15:36:...|    3181998|         0|      en|               WEB|             0|               NULL|                 0|      NULL|       NULL|      NULL|    NULL|              NULL|          NULL|               NULL|              NULL|\n",
      "|2021-03-23T08:54:...|    3191244|         0|      en|               WEB|           367|               NULL|                 0|      NULL|       NULL|      NULL|    NULL|              NULL|          NULL|               NULL|              NULL|\n",
      "|2021-04-06T13:52:...|    3274222|         0|      en|               WEB|             0|               NULL|                 0|      NULL|       NULL|      NULL|    NULL|              NULL|          NULL|               NULL|              NULL|\n",
      "|2021-04-09T09:51:...|    3289843|         0|      en|               WEB|            21|               NULL|                 0|      NULL|       NULL|      NULL|    NULL|              NULL|          NULL|               NULL|              NULL|\n",
      "|2021-04-12T06:56:...|    3307723|         0|      en|               WEB|             0|               NULL|                 0|      NULL|       NULL|      NULL|    NULL|              NULL|          NULL|               NULL|              NULL|\n",
      "|2021-04-14T06:53:...|    3320505|         0|      en|               WEB|             0|               NULL|                 0|      NULL|       NULL|      NULL|    NULL|              NULL|          NULL|               NULL|              NULL|\n",
      "|2021-04-14T06:54:...|    3320510|         0|      en|               WEB|             0|               NULL|                 0|      NULL|       NULL|      NULL|    NULL|              NULL|          NULL|               NULL|              NULL|\n",
      "|2021-04-14T09:01:...|    3321209|         0|      en|               WEB|             7|               NULL|                 0|      NULL|       NULL|      NULL|    NULL|              NULL|          NULL|               NULL|              NULL|\n",
      "|2021-04-14T10:25:...|    3321648|         0|      en|               WEB|             0|               NULL|                 0|      NULL|       NULL|      NULL|    NULL|              NULL|          NULL|               NULL|              NULL|\n",
      "|2021-04-14T11:07:...|    3321884|         0|      en|               WEB|             0|               NULL|                 0|      NULL|       NULL|      NULL|    NULL|              NULL|          NULL|               NULL|              NULL|\n",
      "|2021-04-14T12:56:...|    3322509|         0|      en|               WEB|             0|               NULL|                 0|      NULL|       NULL|      NULL|    NULL|              NULL|          NULL|               NULL|              NULL|\n",
      "|2021-04-14T13:11:...|    3322639|         0|      en|               WEB|             0|               NULL|                 0|      NULL|       NULL|      NULL|    NULL|              NULL|          NULL|               NULL|              NULL|\n",
      "|2021-04-15T06:23:...|    3326583|         0|      en|               WEB|             0|               NULL|                 0|      NULL|       NULL|      NULL|    NULL|              NULL|          NULL|               NULL|              NULL|\n",
      "|2021-04-15T07:04:...|    3326754|         0|      en|               WEB|             1|               NULL|                 0|      NULL|       NULL|      NULL|    NULL|              NULL|          NULL|               NULL|              NULL|\n",
      "|2021-04-15T07:34:...|    3326869|         0|      en|               WEB|            46|               NULL|                 0|      NULL|       NULL|      NULL|    NULL|              NULL|          NULL|               NULL|              NULL|\n",
      "|2021-04-15T09:38:...|    3327353|         0|      en|               WEB|             2|               NULL|                 0|      NULL|       NULL|      NULL|    NULL|              NULL|          NULL|               NULL|              NULL|\n",
      "|2021-04-15T12:20:...|    3328088|         0|      en|               WEB|             1|               NULL|                 0|      NULL|       NULL|      NULL|    NULL|              NULL|          NULL|               NULL|              NULL|\n",
      "|2021-04-15T15:07:...|    3328990|         0|      en|               WEB|            36|               NULL|                 0|      NULL|       NULL|      NULL|    NULL|              NULL|          NULL|               NULL|              NULL|\n",
      "+--------------------+-----------+----------+--------+------------------+--------------+-------------------+------------------+----------+-----------+----------+--------+------------------+--------------+-------------------+------------------+\n",
      "only showing top 20 rows\n",
      "\n"
     ]
    }
   ],
   "source": [
    "customers.show()"
   ]
  },
  {
   "cell_type": "code",
   "execution_count": 68,
   "metadata": {},
   "outputs": [
    {
     "data": {
      "text/plain": [
       "13671"
      ]
     },
     "execution_count": 68,
     "metadata": {},
     "output_type": "execute_result"
    }
   ],
   "source": [
    "orders.count()"
   ]
  },
  {
   "cell_type": "code",
   "execution_count": 63,
   "metadata": {},
   "outputs": [
    {
     "name": "stdout",
     "output_type": "stream",
     "text": [
      "+---------+------------+------------+------------+---------+-----+--------+--------------+-----------+---------------------+-----------+----------+------+------+----------+----------+----+-------------+------------------+----------------+-------------------+--------------------+--------+----------------+--------+--------+------------+-------------+-------+-------+----+----+-------+--------+------------+---------+---------+-----+--------+-----------+---------------------+-----------+----------+------+------+--------+---------+----+-------------+------------------+----------------+-------------------+--------------------+----+----------------+--------+--------+------------+-------------+-------+-------+\n",
      "|  Task_ID|    Order_ID|Relationship|   Team_Name|Task_Type|Notes|Agent_ID|    Agent_Name|Distance(m)|Total_Time_Taken(min)|Task_Status|Ref_Images|Rating|Review|  Latitude| Longitude|Tags|Promo_Applied|Custom_Template_ID|Task_Details_QTY|Task_Details_AMOUNT|Special_Instructions|     Tip|Delivery_Charges|Discount|Subtotal|Payment_Type|Task_Category|Earning|Pricing|_c30|_c31|Task_ID|Order_ID|Relationship|Team_Name|Task_Type|Notes|Agent_ID|Distance(m)|Total_Time_Taken(min)|Task_Status|Ref_Images|Rating|Review|Latitude|Longitude|Tags|Promo_Applied|Custom_Template_ID|Task_Details_QTY|Task_Details_AMOUNT|Special_Instructions| Tip|Delivery_Charges|Discount|Subtotal|Payment_Type|Task_Category|Earning|Pricing|\n",
      "+---------+------------+------------+------------+---------+-----+--------+--------------+-----------+---------------------+-----------+----------+------+------+----------+----------+----+-------------+------------------+----------------+-------------------+--------------------+--------+----------------+--------+--------+------------+-------------+-------+-------+----+----+-------+--------+------------+---------+---------+-----+--------+-----------+---------------------+-----------+----------+------+------+--------+---------+----+-------------+------------------+----------------+-------------------+--------------------+----+----------------+--------+--------+------------+-------------+-------+-------+\n",
      "|218658360|YR-5304830,0|     2.19E29|Default Team| Delivery| NULL|       -|             -|          -|                    0|  Cancelled|         -|     0|     -|-1.2931526|36.7908542|NULL|            -|     Order_Details|              10|        KSh 3990.00|                   -|KSh 0.00|        KSh 0.00|KSh 0.00|    3990|   Pay Later|            -|      -|      -|NULL|NULL|   NULL|    NULL|        NULL|     NULL|     NULL| NULL|    NULL|       NULL|                 NULL|       NULL|      NULL|  NULL|  NULL|    NULL|     NULL|NULL|         NULL|              NULL|            NULL|               NULL|                NULL|NULL|            NULL|    NULL|    NULL|        NULL|         NULL|   NULL|   NULL|\n",
      "|235761688|YR-5761300,0|     2.36E29|Default Team| Delivery| NULL|       -|             -|          -|                    0|     Failed|         -|     0|     -|-1.2568234|36.7927221|NULL|            -|     Order_Details|               1|        KSh 4440.00|                   -|       -|               -|       -|       -|           -|            -|      -|      -|NULL|NULL|   NULL|    NULL|        NULL|     NULL|     NULL| NULL|    NULL|       NULL|                 NULL|       NULL|      NULL|  NULL|  NULL|    NULL|     NULL|NULL|         NULL|              NULL|            NULL|               NULL|                NULL|NULL|            NULL|    NULL|    NULL|        NULL|         NULL|   NULL|   NULL|\n",
      "|235761688|YR-5761300,0|     2.36E29|Default Team| Delivery| NULL|       -|             -|          -|                    0|     Failed|         -|     0|     -|-1.2568234|36.7927221|NULL|            -|     Order_Details|               1|        KSh 1800.00|                   -|       -|               -|       -|       -|           -|            -|      -|      -|NULL|NULL|   NULL|    NULL|        NULL|     NULL|     NULL| NULL|    NULL|       NULL|                 NULL|       NULL|      NULL|  NULL|  NULL|    NULL|     NULL|NULL|         NULL|              NULL|            NULL|               NULL|                NULL|NULL|            NULL|    NULL|    NULL|        NULL|         NULL|   NULL|   NULL|\n",
      "|235761688|YR-5761300,0|     2.36E29|Default Team| Delivery| NULL|       -|             -|          -|                    0|     Failed|         -|     0|     -|-1.2568234|36.7927221|NULL|            -|     Order_Details|               1|        KSh 1520.00|                   -|KSh 0.00|        KSh 0.00|KSh 0.00|    7760|        CASH|            -|      -|      -|NULL|NULL|   NULL|    NULL|        NULL|     NULL|     NULL| NULL|    NULL|       NULL|                 NULL|       NULL|      NULL|  NULL|  NULL|    NULL|     NULL|NULL|         NULL|              NULL|            NULL|               NULL|                NULL|NULL|            NULL|    NULL|    NULL|        NULL|         NULL|   NULL|   NULL|\n",
      "|237001408|YR-5783856,0|     2.37E29|Default Team| Delivery| NULL|       -|             -|          -|                 0.02|  Completed|         -|     0|     -|-1.2962382|36.7916138|NULL|            -|     Order_Details|               1|        KSh 1520.00|                   -|KSh 0.00|        KSh 0.00|KSh 0.00|    1520|        CASH|            -|      -|      -|NULL|NULL|   NULL|    NULL|        NULL|     NULL|     NULL| NULL|    NULL|       NULL|                 NULL|       NULL|      NULL|  NULL|  NULL|    NULL|     NULL|NULL|         NULL|              NULL|            NULL|               NULL|                NULL|NULL|            NULL|    NULL|    NULL|        NULL|         NULL|   NULL|   NULL|\n",
      "|237729646|YR-5795608,0|     2.38E29|Default Team| Delivery| NULL|       -|             -|          -|                 0.02|  Completed|         -|     0|     -|-1.2830239|36.9021999|NULL|            -|     Order_Details|               1|        KSh 1520.00|                   -|KSh 0.00|        KSh 0.00|KSh 0.00|    1520|        CASH|            -|      -|      -|NULL|NULL|   NULL|    NULL|        NULL|     NULL|     NULL| NULL|    NULL|       NULL|                 NULL|       NULL|      NULL|  NULL|  NULL|    NULL|     NULL|NULL|         NULL|              NULL|            NULL|               NULL|                NULL|NULL|            NULL|    NULL|    NULL|        NULL|         NULL|   NULL|   NULL|\n",
      "|237873169|YR-5805917,0|     2.38E29|Default Team| Delivery| NULL|       -|             -|          -|                    0|  Completed|         -|     0|     -|-1.2568234|36.7927221|NULL|            -|     Order_Details|               2|        KSh 8880.00|                   -|       -|               -|       -|       -|           -|            -|      -|      -|NULL|NULL|   NULL|    NULL|        NULL|     NULL|     NULL| NULL|    NULL|       NULL|                 NULL|       NULL|      NULL|  NULL|  NULL|    NULL|     NULL|NULL|         NULL|              NULL|            NULL|               NULL|                NULL|NULL|            NULL|    NULL|    NULL|        NULL|         NULL|   NULL|   NULL|\n",
      "|237873169|YR-5805917,0|     2.38E29|Default Team| Delivery| NULL|       -|             -|          -|                    0|  Completed|         -|     0|     -|-1.2568234|36.7927221|NULL|            -|     Order_Details|               1|        KSh 1800.00|                   -|KSh 0.00|        KSh 0.00|KSh 0.00|   10680|        CASH|            -|      -|      -|NULL|NULL|   NULL|    NULL|        NULL|     NULL|     NULL| NULL|    NULL|       NULL|                 NULL|       NULL|      NULL|  NULL|  NULL|    NULL|     NULL|NULL|         NULL|              NULL|            NULL|               NULL|                NULL|NULL|            NULL|    NULL|    NULL|        NULL|         NULL|   NULL|   NULL|\n",
      "|238421162|YR-5795755,0|     2.38E29|Default Team| Delivery| NULL|       -|             -|          -|                    0|  Completed|         -|     0|     -|-1.1499068|36.9477842|NULL|            -|     Order_Details|               2|        KSh 4200.00|                   -|KSh 0.00|        KSh 0.00|KSh 0.00|    4200|        CASH|            -|      -|      -|NULL|NULL|   NULL|    NULL|        NULL|     NULL|     NULL| NULL|    NULL|       NULL|                 NULL|       NULL|      NULL|  NULL|  NULL|    NULL|     NULL|NULL|         NULL|              NULL|            NULL|               NULL|                NULL|NULL|            NULL|    NULL|    NULL|        NULL|         NULL|   NULL|   NULL|\n",
      "|239235589|YR-5835958,0|     2.39E29|Default Team| Delivery| NULL|       -|             -|          -|                    0|  Completed|         -|     0|     -| -1.151827| 36.929292|NULL|            -|     Order_Details|               1|        KSh 1520.00|                   -|       -|               -|       -|       -|           -|            -|      -|      -|NULL|NULL|   NULL|    NULL|        NULL|     NULL|     NULL| NULL|    NULL|       NULL|                 NULL|       NULL|      NULL|  NULL|  NULL|    NULL|     NULL|NULL|         NULL|              NULL|            NULL|               NULL|                NULL|NULL|            NULL|    NULL|    NULL|        NULL|         NULL|   NULL|   NULL|\n",
      "|239235589|YR-5835958,0|     2.39E29|Default Team| Delivery| NULL|       -|             -|          -|                    0|  Completed|         -|     0|     -| -1.151827| 36.929292|NULL|            -|     Order_Details|               9|         KSh 450.00|                   -|       -|               -|       -|       -|           -|            -|      -|      -|NULL|NULL|   NULL|    NULL|        NULL|     NULL|     NULL| NULL|    NULL|       NULL|                 NULL|       NULL|      NULL|  NULL|  NULL|    NULL|     NULL|NULL|         NULL|              NULL|            NULL|               NULL|                NULL|NULL|            NULL|    NULL|    NULL|        NULL|         NULL|   NULL|   NULL|\n",
      "|239235589|YR-5835958,0|     2.39E29|Default Team| Delivery| NULL|       -|             -|          -|                    0|  Completed|         -|     0|     -| -1.151827| 36.929292|NULL|            -|     Order_Details|               2|          KSh 44.00|                   -|KSh 0.00|        KSh 0.00|KSh 0.00|    2014|        CASH|            -|      -|      -|NULL|NULL|   NULL|    NULL|        NULL|     NULL|     NULL| NULL|    NULL|       NULL|                 NULL|       NULL|      NULL|  NULL|  NULL|    NULL|     NULL|NULL|         NULL|              NULL|            NULL|               NULL|                NULL|NULL|            NULL|    NULL|    NULL|        NULL|         NULL|   NULL|   NULL|\n",
      "|240308412|YR-5830118,0|      2.4E29|Default Team| Delivery| NULL|       -|             -|          -|                    0|  Completed|         -|     0|     -|-1.2002054|36.9005964|NULL|            -|     Order_Details|               1|        KSh 1943.00|                   -|KSh 0.00|        KSh 0.00|KSh 0.00|    1943|        CASH|            -|      -|      -|NULL|NULL|   NULL|    NULL|        NULL|     NULL|     NULL| NULL|    NULL|       NULL|                 NULL|       NULL|      NULL|  NULL|  NULL|    NULL|     NULL|NULL|         NULL|              NULL|            NULL|               NULL|                NULL|NULL|            NULL|    NULL|    NULL|        NULL|         NULL|   NULL|   NULL|\n",
      "|241253260|YR-5892367,0|     2.41E29|Default Team| Delivery| NULL|       -|             -|          -|                 0.02|  Completed|         -|     0|     -|-1.2873145|36.8054981|NULL|            -|     Order_Details|               1|        KSh 1250.00|                   -|       -|               -|       -|       -|           -|            -|      -|      -|NULL|NULL|   NULL|    NULL|        NULL|     NULL|     NULL| NULL|    NULL|       NULL|                 NULL|       NULL|      NULL|  NULL|  NULL|    NULL|     NULL|NULL|         NULL|              NULL|            NULL|               NULL|                NULL|NULL|            NULL|    NULL|    NULL|        NULL|         NULL|   NULL|   NULL|\n",
      "|241253260|YR-5892367,0|     2.41E29|Default Team| Delivery| NULL|       -|             -|          -|                 0.02|  Completed|         -|     0|     -|-1.2873145|36.8054981|NULL|            -|     Order_Details|               1|        KSh 1520.00|                   -|KSh 0.00|        KSh 0.00|KSh 0.00|    2770|        CASH|            -|      -|      -|NULL|NULL|   NULL|    NULL|        NULL|     NULL|     NULL| NULL|    NULL|       NULL|                 NULL|       NULL|      NULL|  NULL|  NULL|    NULL|     NULL|NULL|         NULL|              NULL|            NULL|               NULL|                NULL|NULL|            NULL|    NULL|    NULL|        NULL|         NULL|   NULL|   NULL|\n",
      "|241960162|YR-5910088,0|     2.42E29|Default Team| Delivery| NULL| 1001204| Kennedy Mokua|          0|                91.02|     Failed|         -|     0|     -| -1.264623| 36.804944|NULL|            -|     Order_Details|               2|        KSh 2500.00|                   -|KSh 0.00|        KSh 0.00|KSh 0.00|    2500|        CASH|            -|      -|      -|NULL|NULL|   NULL|    NULL|        NULL|     NULL|     NULL| NULL|    NULL|       NULL|                 NULL|       NULL|      NULL|  NULL|  NULL|    NULL|     NULL|NULL|         NULL|              NULL|            NULL|               NULL|                NULL|NULL|            NULL|    NULL|    NULL|        NULL|         NULL|   NULL|   NULL|\n",
      "|242391414|YR-5918513,0|     2.42E29|Default Team| Delivery| NULL| 1001205|Benedict Musau|          -|                    0|  Cancelled|         -|     0|     -| -1.264623| 36.804944|NULL|            -|     Order_Details|               2|        KSh 3040.00|                   -|KSh 0.00|        KSh 0.00|KSh 0.00|    3040|        CASH|            -|      -|      -|NULL|NULL|   NULL|    NULL|        NULL|     NULL|     NULL| NULL|    NULL|       NULL|                 NULL|       NULL|      NULL|  NULL|  NULL|    NULL|     NULL|NULL|         NULL|              NULL|            NULL|               NULL|                NULL|NULL|            NULL|    NULL|    NULL|        NULL|         NULL|   NULL|   NULL|\n",
      "|242403302|YR-5920277,0|     2.42E29|Default Team| Delivery| NULL| 1001205|Benedict Musau|          0|              8939.93|  Completed|         -|     0|     -|-1.1328895|36.9752903|NULL|            -|     Order_Details|               1|        KSh 3649.00|                   -|KSh 0.00|        KSh 0.00|KSh 0.00|    3649|        CASH|            -|      -|      -|NULL|NULL|   NULL|    NULL|        NULL|     NULL|     NULL| NULL|    NULL|       NULL|                 NULL|       NULL|      NULL|  NULL|  NULL|    NULL|     NULL|NULL|         NULL|              NULL|            NULL|               NULL|                NULL|NULL|            NULL|    NULL|    NULL|        NULL|         NULL|   NULL|   NULL|\n",
      "|242527621|YR-5918442,0|     2.43E29|Default Team| Delivery| NULL| 1001205|Benedict Musau|          -|                50.37|  Completed|         -|     0|     -|-1.2989997|36.8914592|NULL|            -|     Order_Details|               1|        KSh 1520.00|                   -|       -|               -|       -|       -|           -|            -|      -|      -|NULL|NULL|   NULL|    NULL|        NULL|     NULL|     NULL| NULL|    NULL|       NULL|                 NULL|       NULL|      NULL|  NULL|  NULL|    NULL|     NULL|NULL|         NULL|              NULL|            NULL|               NULL|                NULL|NULL|            NULL|    NULL|    NULL|        NULL|         NULL|   NULL|   NULL|\n",
      "|242527621|YR-5918442,0|     2.43E29|Default Team| Delivery| NULL| 1001205|Benedict Musau|          -|                50.37|  Completed|         -|     0|     -|-1.2989997|36.8914592|NULL|            -|     Order_Details|               1|        KSh 1845.00|                   -|KSh 0.00|        KSh 0.00|KSh 0.00|    3365|        CASH|            -|      -|      -|NULL|NULL|   NULL|    NULL|        NULL|     NULL|     NULL| NULL|    NULL|       NULL|                 NULL|       NULL|      NULL|  NULL|  NULL|    NULL|     NULL|NULL|         NULL|              NULL|            NULL|               NULL|                NULL|NULL|            NULL|    NULL|    NULL|        NULL|         NULL|   NULL|   NULL|\n",
      "+---------+------------+------------+------------+---------+-----+--------+--------------+-----------+---------------------+-----------+----------+------+------+----------+----------+----+-------------+------------------+----------------+-------------------+--------------------+--------+----------------+--------+--------+------------+-------------+-------+-------+----+----+-------+--------+------------+---------+---------+-----+--------+-----------+---------------------+-----------+----------+------+------+--------+---------+----+-------------+------------------+----------------+-------------------+--------------------+----+----------------+--------+--------+------------+-------------+-------+-------+\n",
      "only showing top 20 rows\n",
      "\n"
     ]
    }
   ],
   "source": [
    "deliveries.show()"
   ]
  },
  {
   "cell_type": "markdown",
   "metadata": {},
   "source": [
    "#### Drop Rows With Empty Columns"
   ]
  },
  {
   "cell_type": "code",
   "execution_count": 64,
   "metadata": {},
   "outputs": [],
   "source": [
    "c_cols = customers.columns\n",
    "o_cols = orders.columns\n",
    "d_cols = deliveries.columns"
   ]
  },
  {
   "cell_type": "code",
   "execution_count": null,
   "metadata": {},
   "outputs": [],
   "source": []
  }
 ],
 "metadata": {
  "kernelspec": {
   "display_name": "Python 3",
   "language": "python",
   "name": "python3"
  },
  "language_info": {
   "codemirror_mode": {
    "name": "ipython",
    "version": 3
   },
   "file_extension": ".py",
   "mimetype": "text/x-python",
   "name": "python",
   "nbconvert_exporter": "python",
   "pygments_lexer": "ipython3",
   "version": "3.11.4"
  }
 },
 "nbformat": 4,
 "nbformat_minor": 2
}
